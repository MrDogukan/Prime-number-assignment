{
  "nbformat": 4,
  "nbformat_minor": 0,
  "metadata": {
    "colab": {
      "name": "ilkders.ipynb",
      "provenance": [],
      "collapsed_sections": []
    },
    "kernelspec": {
      "name": "python3",
      "display_name": "Python 3"
    },
    "language_info": {
      "name": "python"
    }
  },
  "cells": [
    {
      "cell_type": "code",
      "metadata": {
        "id": "mYAQ8BwuNgq4"
      },
      "source": [
        "sayi=int(input(\"Sayıyı Girin : \"))\n",
        "if sayi > 1:\n",
        "   \n",
        "   for i in range(2,sayi):\n",
        "       if (sayi % i) == 0:\n",
        "           print(sayi,\" Asal Sayı Değildir.\")\n",
        "           break\n",
        "   else:\n",
        "       print(sayi,\" Asal Sayıdır.\")\n",
        " \n",
        "else:\n",
        "   print(sayi,\" Asal Sayı Değildir.\")"
      ],
      "execution_count": null,
      "outputs": []
    }
  ]
}